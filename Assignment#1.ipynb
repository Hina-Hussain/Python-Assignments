{
 "cells": [
  {
   "cell_type": "code",
   "execution_count": 14,
   "metadata": {},
   "outputs": [
    {
     "name": "stdout",
     "output_type": "stream",
     "text": [
      "Twinkle,twinkle,little star,\n",
      "      How I wonder what you are!\n",
      "\t    Up above the world so high,\n",
      "\t    Like a diamond in the sky.\n",
      "Twinkle, twinkle, little star,\n",
      "      How I wonder what you are\n"
     ]
    }
   ],
   "source": [
    "#Task1\n",
    "message = \"Twinkle,twinkle,little star,\\n      How I wonder what you are!\\n\\t    Up above the world so high,\\n\\t    Like a diamond in the sky.\\nTwinkle, twinkle, little star,\\n      How I wonder what you are\"\n",
    "                  \n",
    "print(message)    \n",
    "    "
   ]
  },
  {
   "cell_type": "code",
   "execution_count": 17,
   "metadata": {},
   "outputs": [
    {
     "name": "stdout",
     "output_type": "stream",
     "text": [
      "Python Version\n",
      "3.7.4 (default, Aug  9 2019, 18:34:13) [MSC v.1915 64 bit (AMD64)]\n"
     ]
    }
   ],
   "source": [
    "#Task2 Get Python version\n",
    "import sys\n",
    "print(\"Python Version\")\n",
    "print(sys.version)"
   ]
  },
  {
   "cell_type": "code",
   "execution_count": 21,
   "metadata": {},
   "outputs": [
    {
     "name": "stdout",
     "output_type": "stream",
     "text": [
      "2019-11-03 22:19:58.431339\n"
     ]
    }
   ],
   "source": [
    "#Task3 Current date and time\n",
    "import datetime\n",
    "current_date_time = str(datetime.datetime.now())\n",
    "print(current_date_time)"
   ]
  },
  {
   "cell_type": "code",
   "execution_count": 27,
   "metadata": {},
   "outputs": [
    {
     "name": "stdout",
     "output_type": "stream",
     "text": [
      "Enter radius2\n",
      "12.56\n"
     ]
    }
   ],
   "source": [
    "#Task4 compute area\n",
    "radius = (int)(input(\"Enter radius\"))\n",
    "area = 3.14*radius*radius #PI R square\n",
    "print(area)"
   ]
  },
  {
   "cell_type": "code",
   "execution_count": 28,
   "metadata": {},
   "outputs": [
    {
     "name": "stdout",
     "output_type": "stream",
     "text": [
      "Enter first namehina\n",
      "Enter last namehussain\n",
      "hussain hina\n"
     ]
    }
   ],
   "source": [
    "#Task5\n",
    "first_name = input(\"Enter first name\")\n",
    "last_name = input(\"Enter last name\")\n",
    "print(last_name+\" \"+first_name)"
   ]
  },
  {
   "cell_type": "code",
   "execution_count": 29,
   "metadata": {},
   "outputs": [
    {
     "name": "stdout",
     "output_type": "stream",
     "text": [
      "Enter no140\n",
      "Enter no220\n",
      "60\n"
     ]
    }
   ],
   "source": [
    "#Task6\n",
    "no1 = (int)(input(\"Enter no1\"))\n",
    "no2 = (int)(input(\"Enter no2\"))\n",
    "add = no1+no2\n",
    "print(add)"
   ]
  }
 ],
 "metadata": {
  "kernelspec": {
   "display_name": "Python 3",
   "language": "python",
   "name": "python3"
  },
  "language_info": {
   "codemirror_mode": {
    "name": "ipython",
    "version": 3
   },
   "file_extension": ".py",
   "mimetype": "text/x-python",
   "name": "python",
   "nbconvert_exporter": "python",
   "pygments_lexer": "ipython3",
   "version": "3.7.4"
  }
 },
 "nbformat": 4,
 "nbformat_minor": 2
}
