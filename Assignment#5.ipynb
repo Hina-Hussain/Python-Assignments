{
 "cells": [
  {
   "cell_type": "code",
   "execution_count": 3,
   "metadata": {},
   "outputs": [
    {
     "name": "stdout",
     "output_type": "stream",
     "text": [
      "Enter number:5\n",
      "Factorail of number is:\n",
      "120\n"
     ]
    }
   ],
   "source": [
    "#Task:01\n",
    "def calculate_factorial(number):\n",
    "    res = 1;\n",
    "    while number>0:\n",
    "        res = res*number\n",
    "        number-=1\n",
    "    return res\n",
    "number = int(input(\"Enter number:\"))\n",
    "if number<0:\n",
    "    print(\"Only positive number is allowed\")\n",
    "else:\n",
    "    print(\"Factorail of number is:\")\n",
    "    print(calculate_factorial(number))"
   ]
  },
  {
   "cell_type": "code",
   "execution_count": 5,
   "metadata": {},
   "outputs": [
    {
     "name": "stdout",
     "output_type": "stream",
     "text": [
      "Lower count is:9 and upper count is:2\n"
     ]
    }
   ],
   "source": [
    "#Task:02\n",
    "def upper_lower_count(value):\n",
    "    lower_count = 0\n",
    "    upper_count = 0\n",
    "    for substr in value:\n",
    "        if substr.islower():\n",
    "            lower_count+=1\n",
    "        elif substr.isupper():\n",
    "            upper_count+=1\n",
    "    print('Lower count is:'+str(lower_count)+\" and upper count is:\"+str(upper_count))\n",
    "upper_lower_count('Hina Hussain')"
   ]
  },
  {
   "cell_type": "code",
   "execution_count": 6,
   "metadata": {},
   "outputs": [
    {
     "name": "stdout",
     "output_type": "stream",
     "text": [
      "2\n",
      "98\n"
     ]
    }
   ],
   "source": [
    "#Task:03\n",
    "def even_number(number_list):\n",
    "    for num in number_list:\n",
    "        if num%2==0:\n",
    "            print(num)\n",
    "even_number([1,2,3,65,98])"
   ]
  },
  {
   "cell_type": "code",
   "execution_count": 16,
   "metadata": {},
   "outputs": [
    {
     "name": "stdout",
     "output_type": "stream",
     "text": [
      "madam is palindrome\n"
     ]
    }
   ],
   "source": [
    "#Task:04\n",
    "def reverse_string(value):\n",
    "    # preserve this value in variable\n",
    "    temp_value = value\n",
    "    value1 = value[::-1]\n",
    "    if value1==temp_value:\n",
    "        print(value+\" is palindrome\")\n",
    "    else:\n",
    "        print(value+\" is not palidrome\")\n",
    "        \n",
    "reverse_string('madam')"
   ]
  },
  {
   "cell_type": "code",
   "execution_count": 1,
   "metadata": {},
   "outputs": [
    {
     "name": "stdout",
     "output_type": "stream",
     "text": [
      "15 is not a prime number\n"
     ]
    }
   ],
   "source": [
    "#Task:05\n",
    "def check_prime(num):\n",
    "    if(num>1):\n",
    "        count = 0\n",
    "        for i in range(2,num):\n",
    "            if(num%i)==0:\n",
    "                count+=1\n",
    "                break\n",
    "        if(count>0):\n",
    "            print(num,\"is not a prime number\")\n",
    "        else:\n",
    "            print(num,\"is a prime number\")\n",
    "    else:\n",
    "        print(num,\"is not a prime number\")\n",
    "        \n",
    "check_prime(15)\n"
   ]
  },
  {
   "cell_type": "code",
   "execution_count": 2,
   "metadata": {},
   "outputs": [
    {
     "name": "stdout",
     "output_type": "stream",
     "text": [
      "item1:biscut\n",
      "item2:cake\n",
      "item3:milk\n",
      "item4:egg\n",
      "item5:bread\n"
     ]
    }
   ],
   "source": [
    "#Task:6\n",
    "def shopping_list(**list1):\n",
    "    for key,value in list1.items():\n",
    "        print(key+\":\"+value)\n",
    "shopping_list(item1=\"biscut\",item2=\"cake\",item3=\"milk\",item4=\"egg\",item5=\"bread\")"
   ]
  },
  {
   "cell_type": "code",
   "execution_count": null,
   "metadata": {},
   "outputs": [],
   "source": []
  }
 ],
 "metadata": {
  "kernelspec": {
   "display_name": "Python 3",
   "language": "python",
   "name": "python3"
  },
  "language_info": {
   "codemirror_mode": {
    "name": "ipython",
    "version": 3
   },
   "file_extension": ".py",
   "mimetype": "text/x-python",
   "name": "python",
   "nbconvert_exporter": "python",
   "pygments_lexer": "ipython3",
   "version": "3.7.4"
  }
 },
 "nbformat": 4,
 "nbformat_minor": 2
}
