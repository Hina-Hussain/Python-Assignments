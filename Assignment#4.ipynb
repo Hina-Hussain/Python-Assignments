{
 "cells": [
  {
   "cell_type": "code",
   "execution_count": 4,
   "metadata": {},
   "outputs": [
    {
     "name": "stdout",
     "output_type": "stream",
     "text": [
      "{'first_name': 'Aazil', 'last_name': 'Irfan', 'age': 15, 'city': 'Karachi'}\n",
      "{'first_name': 'Aazil', 'last_name': 'Irfan', 'age': 15, 'city': 'Karachi', 'qualification': 'Primary Level'}\n",
      "{'first_name': 'Aazil', 'last_name': 'Irfan', 'age': 15, 'city': 'Karachi', 'qualification': 'High Academic Level'}\n",
      "{'first_name': 'Aazil', 'last_name': 'Irfan', 'age': 15, 'city': 'Karachi'}\n"
     ]
    }
   ],
   "source": [
    "#Task:1\n",
    "person = {\n",
    "    \"first_name\":\"Aazil\",\n",
    "    \"last_name\":\"Irfan\",\n",
    "    \"age\":15,\n",
    "    \"city\":\"Karachi\"\n",
    "}\n",
    "print(person)\n",
    "person[\"qualification\"] = \"Primary Level\"\n",
    "print(person)\n",
    "person[\"qualification\"] = \"High Academic Level\"\n",
    "print(person)\n",
    "del person[\"qualification\"]\n",
    "print(person)"
   ]
  },
  {
   "cell_type": "code",
   "execution_count": 17,
   "metadata": {},
   "outputs": [
    {
     "name": "stdout",
     "output_type": "stream",
     "text": [
      "hyderabad( Pakistan , 12346541 , Famous In Rubbry )\n",
      "umerkot( Pakistan , 152451 , Umerkot Qilla )\n",
      "newyork( London , 52451727 , Abc )\n"
     ]
    }
   ],
   "source": [
    "#Task:02\n",
    "cities = {\n",
    "    \"hyderabad\":{\n",
    "        \"country\":\"Pakistan\",\n",
    "        \"population\":12346541,\n",
    "        \"fact\":\"Famous in rubbry\"\n",
    "    },\n",
    "    \"umerkot\":{\n",
    "        \"country\":\"Pakistan\",\n",
    "       \"population\":152451,\n",
    "        \"fact\":\"Umerkot qilla\"\n",
    "    },\n",
    "     \"newyork\":{\n",
    "        \"country\":\"London\",\n",
    "       \"population\":52451727,\n",
    "        \"fact\":\"ABC\"\n",
    "    }\n",
    "}\n",
    "for city,city_info in cities.items():\n",
    "    data = city+\"( \"+city_info[\"country\"].title()+\" , \"+str(city_info[\"population\"])+\" , \"+city_info[\"fact\"].title()+\" )\";\n",
    "    print(data)\n",
    "    "
   ]
  },
  {
   "cell_type": "code",
   "execution_count": 19,
   "metadata": {},
   "outputs": [
    {
     "name": "stdout",
     "output_type": "stream",
     "text": [
      "Enter your age to buy ticket.\n",
      "Type -1 to exit4\n",
      "Your ticket cost is 10$\n",
      "Enter your age to buy ticket.\n",
      "Type -1 to exit13\n",
      "Your ticket cost is 15$\n",
      "Enter your age to buy ticket.\n",
      "Type -1 to exit-1\n"
     ]
    }
   ],
   "source": [
    "#Task:03\n",
    "def get_ticket_cost(age):\n",
    "    if age>0 and age<3:\n",
    "        print('Hey your ticket is free enjoy movie!!');\n",
    "    elif age>=3 and age<=12:\n",
    "        print(\"Your ticket cost is 10$\");\n",
    "    elif age>12:\n",
    "        print(\"Your ticket cost is 15$\");\n",
    "loop_execute = True # in start this will be true\n",
    "while loop_execute:\n",
    "    age = int(input(\"Enter your age to buy ticket.\\nType -1 to exit\"))\n",
    "    if age == -1:\n",
    "        loop_execute = False;\n",
    "    else:\n",
    "        get_ticket_cost(age)\n",
    "        \n",
    "        "
   ]
  },
  {
   "cell_type": "code",
   "execution_count": 20,
   "metadata": {},
   "outputs": [
    {
     "name": "stdout",
     "output_type": "stream",
     "text": [
      "One of my favourite book is Flutter development\n"
     ]
    }
   ],
   "source": [
    "#Task:04\n",
    "def favourite_book(title):\n",
    "    print(\"One of my favourite book is \"+title);\n",
    "\n",
    "favourite_book('Flutter development');"
   ]
  },
  {
   "cell_type": "code",
   "execution_count": null,
   "metadata": {},
   "outputs": [],
   "source": [
    "#Task:05\n",
    "import random\n",
    "random_no = random.randint(0,30)\n",
    "print(random_no);\n",
    "print(\"!!!!Here in Some Hint For You!!!\");\n",
    "if random_no >=1 and random_no <=10:\n",
    "    print(\"Guess number between 1 and 10\");\n",
    "elif random_no >10 and random_no <=20:\n",
    "    print(\"Guess number between 10 and 20\");\n",
    "elif random_no >20 and random_no <=30:\n",
    "    print(\"Guess number between 20 and 30\");\n",
    "for i in range(0,3):\n",
    "    user_no = int(input(\"guess number!\"))\n",
    "    if user_no == random_no:\n",
    "        print(\"Congratulations You won game!!\");\n",
    "        break;\n",
    "    elif user_no <1 or user_no >30:\n",
    "        print(\"Enter number between 1 and 30\");\n",
    "    else:\n",
    "        print(\"Try again\");"
   ]
  },
  {
   "cell_type": "code",
   "execution_count": 2,
   "metadata": {},
   "outputs": [
    {
     "name": "stdout",
     "output_type": "stream",
     "text": [
      "4\n",
      "!!!!Here in Some Hint For You!!!\n",
      "Guess number between 1 and 10\n",
      "guess number!2\n",
      "Try again\n",
      "guess number!1\n",
      "Try again\n",
      "guess number!4\n",
      "Congratulations You won game!!\n"
     ]
    }
   ],
   "source": [
    "#Task:05\n",
    "import random\n",
    "random_no = random.randint(0,30)\n",
    "print(random_no);\n",
    "print(\"!!!!Here in Some Hint For You!!!\");\n",
    "if random_no >=1 and random_no <=10:\n",
    "    print(\"Guess number between 1 and 10\");\n",
    "elif random_no >10 and random_no <=20:\n",
    "    print(\"Guess number between 10 and 20\");\n",
    "elif random_no >20 and random_no <=30:\n",
    "    print(\"Guess number between 20 and 30\");\n",
    "for i in range(0,3):\n",
    "    user_no = int(input(\"guess number!\"))\n",
    "    if user_no == random_no:\n",
    "        print(\"Congratulations You won game!!\");\n",
    "        break;\n",
    "    elif user_no <1 or user_no >30:\n",
    "        print(\"Enter number between 1 and 30\");\n",
    "    else:\n",
    "        print(\"Try again\");"
   ]
  },
  {
   "cell_type": "code",
   "execution_count": null,
   "metadata": {},
   "outputs": [],
   "source": []
  }
 ],
 "metadata": {
  "kernelspec": {
   "display_name": "Python 3",
   "language": "python",
   "name": "python3"
  },
  "language_info": {
   "codemirror_mode": {
    "name": "ipython",
    "version": 3
   },
   "file_extension": ".py",
   "mimetype": "text/x-python",
   "name": "python",
   "nbconvert_exporter": "python",
   "pygments_lexer": "ipython3",
   "version": "3.7.4"
  }
 },
 "nbformat": 4,
 "nbformat_minor": 2
}
