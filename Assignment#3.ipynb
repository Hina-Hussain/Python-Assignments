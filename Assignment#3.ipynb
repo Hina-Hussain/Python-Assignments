{
 "cells": [
  {
   "cell_type": "code",
   "execution_count": 2,
   "metadata": {},
   "outputs": [
    {
     "name": "stdout",
     "output_type": "stream",
     "text": [
      "Enter first value4\n",
      "Enter second value2\n",
      "Enter operator^\n",
      "answer 16\n"
     ]
    }
   ],
   "source": [
    "#Task:1\n",
    "val1 = int(input('Enter first value'));\n",
    "val2 = int(input('Enter second value'));\n",
    "operator = input('Enter operator');\n",
    "if operator =='+':\n",
    "    val = val1+val2;\n",
    "    print('answer',val);\n",
    "elif operator =='-':\n",
    "    val = val1-val2;\n",
    "    print('answer',val);\n",
    "elif operator =='*':\n",
    "    val = val1*val2;\n",
    "    print('answer',val);\n",
    "elif operator =='/':\n",
    "    val = val1/val2;\n",
    "    print('answer',val);\n",
    "elif operator == '^':\n",
    "    val = val1**val2;\n",
    "    print('answer',val);\n",
    "else:\n",
    "    print('Wrong operator.');\n",
    "    "
   ]
  },
  {
   "cell_type": "code",
   "execution_count": 6,
   "metadata": {},
   "outputs": [
    {
     "name": "stdout",
     "output_type": "stream",
     "text": [
      "12\n",
      "998\n",
      "89\n"
     ]
    }
   ],
   "source": [
    "#Task:2\n",
    "arr_list = ['ali','12','998','89','54.9'];\n",
    "for val in arr_list:\n",
    "    if val.isdigit():\n",
    "        print(val);"
   ]
  },
  {
   "cell_type": "code",
   "execution_count": 8,
   "metadata": {},
   "outputs": [
    {
     "name": "stdout",
     "output_type": "stream",
     "text": [
      "{'fname': 'Aadyan', 'lastname': 'Hussain', 'age': 20, 'salary': 88000}\n"
     ]
    }
   ],
   "source": [
    "#Task:3\n",
    "person = {\n",
    "    'fname':'Aadyan',\n",
    "    'lastname':'Hussain',\n",
    "    'age':20\n",
    "};\n",
    "person['salary'] = 88000;\n",
    "print(person);"
   ]
  },
  {
   "cell_type": "code",
   "execution_count": 10,
   "metadata": {},
   "outputs": [
    {
     "name": "stdout",
     "output_type": "stream",
     "text": [
      "total Sum 677.406\n"
     ]
    }
   ],
   "source": [
    "#Task:4\n",
    "numbers = {'num1':12,'num2':98,'num3':432,'num4':9.876,'num5':125.53};\n",
    "total_sum = 0;\n",
    "for val in numbers.values():\n",
    "    total_sum = total_sum + val;\n",
    "print('total Sum',total_sum);"
   ]
  },
  {
   "cell_type": "code",
   "execution_count": 20,
   "metadata": {},
   "outputs": [
    {
     "name": "stdout",
     "output_type": "stream",
     "text": [
      "[40, 20]\n"
     ]
    }
   ],
   "source": [
    "#Task:5\n",
    "arr_list = [2, 40, 10, 20, 5, 3, 20, 40];\n",
    "repeated = [];\n",
    "size = len(arr_list);\n",
    "for i in range(size-1):\n",
    "    k = i+1\n",
    "    for j in range(k,size):\n",
    "        if (arr_list[i]==arr_list[j]):\n",
    "            repeated.append(arr_list[i]);\n",
    "\n",
    "print(repeated);\n",
    "            \n",
    "\n"
   ]
  },
  {
   "cell_type": "code",
   "execution_count": 24,
   "metadata": {},
   "outputs": [
    {
     "name": "stdout",
     "output_type": "stream",
     "text": [
      "Enter keydept\n",
      "dept key is in student\n"
     ]
    }
   ],
   "source": [
    "#Task:6\n",
    "student = {'id':123,'name':'Azil','dept':'IT'};\n",
    "key = input('Enter key');\n",
    "if key in student:\n",
    "    print(key+ ' key is in student');\n",
    "else:\n",
    "    print(key+' key is not in student');"
   ]
  }
 ],
 "metadata": {
  "kernelspec": {
   "display_name": "Python 3",
   "language": "python",
   "name": "python3"
  },
  "language_info": {
   "codemirror_mode": {
    "name": "ipython",
    "version": 3
   },
   "file_extension": ".py",
   "mimetype": "text/x-python",
   "name": "python",
   "nbconvert_exporter": "python",
   "pygments_lexer": "ipython3",
   "version": "3.7.4"
  }
 },
 "nbformat": 4,
 "nbformat_minor": 2
}
