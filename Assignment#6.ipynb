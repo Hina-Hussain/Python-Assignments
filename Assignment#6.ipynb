{
 "cells": [
  {
   "cell_type": "code",
   "execution_count": 3,
   "metadata": {},
   "outputs": [
    {
     "name": "stdout",
     "output_type": "stream",
     "text": [
      "Car name is: BMW\n",
      "Model number is: 123-ABC\n",
      "Color is: black\n",
      "Car name is: Mehran\n",
      "Model number is: 456-DEF\n",
      "Color is: white\n",
      "Car name is: Alto\n",
      "Model number is: 654-FD\n",
      "Color is: brown\n",
      "Car name is: Cultus\n",
      "Model number is: 143\n",
      "Color is: red\n",
      "Car name is: City\n",
      "Model number is: 431-SW\n",
      "Color is: blue\n"
     ]
    }
   ],
   "source": [
    "#Task:05\n",
    "class Car():\n",
    "    def __init__(self,model,color,name,capacity,weight):\n",
    "        self.model = model\n",
    "        self.color = color\n",
    "        self.name = name\n",
    "        self.capacity = capacity\n",
    "        self.weight = weight\n",
    "    def print_name(self):\n",
    "        print(self.name)\n",
    "    def print_model(self):\n",
    "        print(self.model)\n",
    "    def print_info(self):\n",
    "        print(\"Car name is: \"+self.name+\"\\n\"+\"Model number is: \"+self.model+\"\\n\"+\"Color is: \"+self.color)\n",
    "\n",
    "car1 = Car('123-ABC','black','BMW',1600,2000)\n",
    "car1.print_info()\n",
    "\n",
    "car2 = Car('456-DEF','white','Mehran',1400,1500)\n",
    "car2.print_info()\n",
    "\n",
    "car3 = Car('654-FD','brown','Alto',1300,1400)\n",
    "car3.print_info()\n",
    "\n",
    "car4 = Car('143','red','Cultus',1600,2000)\n",
    "car4.print_info()\n",
    "\n",
    "car5 = Car('431-SW','blue','City',1600,2000)\n",
    "car5.print_info()"
   ]
  },
  {
   "cell_type": "code",
   "execution_count": null,
   "metadata": {},
   "outputs": [],
   "source": []
  }
 ],
 "metadata": {
  "kernelspec": {
   "display_name": "Python 3",
   "language": "python",
   "name": "python3"
  },
  "language_info": {
   "codemirror_mode": {
    "name": "ipython",
    "version": 3
   },
   "file_extension": ".py",
   "mimetype": "text/x-python",
   "name": "python",
   "nbconvert_exporter": "python",
   "pygments_lexer": "ipython3",
   "version": "3.7.4"
  }
 },
 "nbformat": 4,
 "nbformat_minor": 2
}
