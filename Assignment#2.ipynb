{
 "cells": [
  {
   "cell_type": "raw",
   "metadata": {},
   "source": [
    "\n",
    "    \n"
   ]
  },
  {
   "cell_type": "code",
   "execution_count": 2,
   "metadata": {},
   "outputs": [
    {
     "name": "stdout",
     "output_type": "stream",
     "text": [
      "Enter your english marks64\n",
      "Enter your urdu marks73\n",
      "Enter your bio marks97\n",
      "Enter your physics marks24\n",
      "Enter your chemistry marks99\n",
      "A\n"
     ]
    }
   ],
   "source": [
    "#Task:1\n",
    "eng_marks = int(input(\"Enter your english marks\"));\n",
    "urdu_marks = int(input(\"Enter your urdu marks\"));\n",
    "bio_marks = int(input(\"Enter your bio marks\"));\n",
    "phy_marks = int(input(\"Enter your physics marks\"));\n",
    "chem_marks = int(input(\"Enter your chemistry marks\"));\n",
    "obtain_marks = eng_marks + urdu_marks + bio_marks + phy_marks + chem_marks;\n",
    "per = (obtain_marks/500)*100;\n",
    "if per>=80 and per<=100:\n",
    "    print(\"A+\");\n",
    "elif per>=70 and per<80:\n",
    "    print(\"A\");\n",
    "elif per>=60 and per<70:\n",
    "    print(\"B\");\n",
    "elif per>=50 and per<60:\n",
    "    print(\"C\");\n",
    "elif per>=40 and per<50:\n",
    "    print(\"D\");\n",
    "elif per>=33 and per<40:\n",
    "    print(\"E\");\n",
    "elif per>=0 and per<33:\n",
    "    print(\"F\");\n",
    "else:\n",
    "    print(\"Wrong inputs\");"
   ]
  },
  {
   "cell_type": "code",
   "execution_count": 6,
   "metadata": {},
   "outputs": [
    {
     "name": "stdout",
     "output_type": "stream",
     "text": [
      "Enter no40\n",
      "Even no!\n"
     ]
    }
   ],
   "source": [
    "#Task:2\n",
    "no = int(input(\"Enter no\"));\n",
    "if no%2==0:\n",
    "    print(\"Even no!\");\n",
    "else:\n",
    "    print(\"Odd no!\");"
   ]
  },
  {
   "cell_type": "code",
   "execution_count": 13,
   "metadata": {},
   "outputs": [
    {
     "name": "stdout",
     "output_type": "stream",
     "text": [
      "6\n"
     ]
    }
   ],
   "source": [
    "#Task:3\n",
    "arr = [1,9,7,\"Karachi\",\"Hyderabad\",\"Rida\"];\n",
    "print(len(arr));"
   ]
  },
  {
   "cell_type": "code",
   "execution_count": 14,
   "metadata": {},
   "outputs": [
    {
     "name": "stdout",
     "output_type": "stream",
     "text": [
      "47\n"
     ]
    }
   ],
   "source": [
    "#Task:4\n",
    "arr = [1,2,4,7,9,11,13];\n",
    "total_sum = 0;\n",
    "for no in arr:\n",
    "    total_sum += no;\n",
    "print(total_sum);"
   ]
  },
  {
   "cell_type": "code",
   "execution_count": 15,
   "metadata": {},
   "outputs": [
    {
     "name": "stdout",
     "output_type": "stream",
     "text": [
      "13\n"
     ]
    }
   ],
   "source": [
    "#Task:5\n",
    "arr = [1,2,4,7,9,11,13];\n",
    "print(max(arr));"
   ]
  },
  {
   "cell_type": "code",
   "execution_count": 16,
   "metadata": {},
   "outputs": [
    {
     "name": "stdout",
     "output_type": "stream",
     "text": [
      "1\n",
      "1\n",
      "2\n",
      "3\n"
     ]
    }
   ],
   "source": [
    "#Task:6\n",
    "a = [1, 1, 2, 3, 5, 8, 13, 21, 34, 55, 89]\n",
    "for no in a:\n",
    "    if(no<5):\n",
    "        print(no);"
   ]
  }
 ],
 "metadata": {
  "kernelspec": {
   "display_name": "Python 3",
   "language": "python",
   "name": "python3"
  },
  "language_info": {
   "codemirror_mode": {
    "name": "ipython",
    "version": 3
   },
   "file_extension": ".py",
   "mimetype": "text/x-python",
   "name": "python",
   "nbconvert_exporter": "python",
   "pygments_lexer": "ipython3",
   "version": "3.7.4"
  }
 },
 "nbformat": 4,
 "nbformat_minor": 2
}
